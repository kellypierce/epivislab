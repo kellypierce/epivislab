{
  "cells": [
    {
      "cell_type": "code",
      "execution_count": null,
      "metadata": {
        "collapsed": false
      },
      "outputs": [],
      "source": [
        "%matplotlib inline"
      ]
    },
    {
      "cell_type": "markdown",
      "metadata": {},
      "source": [
        "\nExample prediction interval plot\n"
      ]
    },
    {
      "cell_type": "code",
      "execution_count": null,
      "metadata": {
        "collapsed": false
      },
      "outputs": [],
      "source": [
        "import xarray as xr\nimport plotly\nfrom epivislab.simhandler import EpiSummary\n\nsims = xr.open_zarr('../../../tests/data/test_sim_2.zarr/')\n\ntest = EpiSummary(\n    simulation=sims,\n    state_coord=['compt'],\n    within_sim_coord=['age', 'risk', 'vertex'],\n    time_coord=['step'],\n    between_sim_coord=['index'],\n    measured_coord=['compt_model__state']\n)\n\nfig = test.interval_plot(\n    groupers=['age', 'risk', 'step', 'vertex', 'compt'],\n    aggcol='compt_model__state',\n    upper=0.9,\n    lower=0.05)\n\nplotly.io.show(fig)"
      ]
    }
  ],
  "metadata": {
    "kernelspec": {
      "display_name": "Python 3",
      "language": "python",
      "name": "python3"
    },
    "language_info": {
      "codemirror_mode": {
        "name": "ipython",
        "version": 3
      },
      "file_extension": ".py",
      "mimetype": "text/x-python",
      "name": "python",
      "nbconvert_exporter": "python",
      "pygments_lexer": "ipython3",
      "version": "3.9.7"
    }
  },
  "nbformat": 4,
  "nbformat_minor": 0
}