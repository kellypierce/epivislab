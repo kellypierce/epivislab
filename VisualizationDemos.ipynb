{
 "cells": [
  {
   "cell_type": "markdown",
   "metadata": {},
   "source": [
    "# Epidemic visualization demos\n",
    "\n",
    "Epivislab can ingest simulation outputs from Episimlab. The outputs must be saved in a format that can be loaded as an `xarray`.\n",
    "\n",
    "Epivislab provides a flexible interface for summarizing and aggregating simulations along various axes. Epivislab recognizes four main categories of dimensions defined in simulation xarrays:\n",
    "\n",
    "- The **State** dimension enumerates the disease compartment states in the model (e.g. \"susceptible\", \"infectious\") and should be found in each simulation.\n",
    "- The **Time** dimension defines the ordering of steps in each simulation.\n",
    "- The remaining **Within-simulation** dimensions include any axes that are present in the contact matrix (e.g. \"age\", \"risk\"). These dimensions should be found in each individual simulation.\n",
    "- The **Between-simulation** dimensions are those that distinguish different replicates in the same set of simulations. The simplest implementation is an index that indicates which replicate a particular data point belongs to.\n",
    "- Finally, the **Measured values** are the numeric outputs from the simuluation -- the population size in each compartment.\n",
    "\n",
    "Epivislab integrates with `dask` to provide parallel computation of summary statistics for large simulations, and uses `plotly` to render interactive visuals based on those aggregations."
   ]
  },
  {
   "cell_type": "code",
   "execution_count": 1,
   "metadata": {},
   "outputs": [],
   "source": [
    "import xarray as xr\n",
    "import numpy as np\n",
    "import pandas as pd\n",
    "import dask.dataframe as dd\n",
    "from epivislab.stats import Quantile\n",
    "from epivislab.simhandler import EpiSummary"
   ]
  },
  {
   "cell_type": "markdown",
   "metadata": {},
   "source": [
    "Simulations from episimlab produce xarrays, and those data objects should be saved in a file format that supports this data structure. For this example, we'll use a small simulation saved in the `zarr` format."
   ]
  },
  {
   "cell_type": "code",
   "execution_count": 2,
   "metadata": {},
   "outputs": [],
   "source": [
    "sims = xr.open_zarr('/Users/kpierce/epimodels/epimodels/outputs/test_sim_2.zarr/')"
   ]
  },
  {
   "cell_type": "markdown",
   "metadata": {},
   "source": [
    "The xarray data structure contains helpful metadata that we can use to understand the parameters of the simulation. The coordinates and dimensions of the xarray tell us about the structure of the model and the contact matrix."
   ]
  },
  {
   "cell_type": "code",
   "execution_count": 3,
   "metadata": {},
   "outputs": [
    {
     "data": {
      "text/plain": [
       "Coordinates:\n",
       "  * age      (age) object '0-4' '5-17' '18-49' '50-64' '65+'\n",
       "  * compt    (compt) object 'S' 'E' 'Pa' 'Py' 'Ia' 'Iy' 'Ih' 'R' 'D'\n",
       "  * index    (index) int64 0 1 2 3 4 5 6 7 8 9\n",
       "  * risk     (risk) object 'low' 'high'\n",
       "  * step     (step) datetime64[ns] 2020-03-11 2020-03-12 ... 2020-04-01\n",
       "  * vertex   (vertex) object 'Austin'"
      ]
     },
     "execution_count": 3,
     "metadata": {},
     "output_type": "execute_result"
    }
   ],
   "source": [
    "sims.coords"
   ]
  },
  {
   "cell_type": "markdown",
   "metadata": {},
   "source": [
    "The keys of the xarray tell us about the values in the xarray:"
   ]
  },
  {
   "cell_type": "code",
   "execution_count": 4,
   "metadata": {},
   "outputs": [
    {
     "data": {
      "text/plain": [
       "['compt_model__state',\n",
       " 'rate_E2Pa__tau',\n",
       " 'rate_E2Py__tau',\n",
       " 'rate_Iy2Ih__eta',\n",
       " 'rate_S2E__beta',\n",
       " 'setup_gamma_Ia__tri_Iy2R_para',\n",
       " 'setup_gamma_Ih__tri_Ih2R',\n",
       " 'setup_mu__tri_Ih2D',\n",
       " 'setup_rho_Ia__tri_Pa2Ia',\n",
       " 'setup_rho_Iy__tri_Py2Iy',\n",
       " 'setup_seed__seed_entropy',\n",
       " 'setup_sigma__tri_exposed_para',\n",
       " 'setup_sto__sto_toggle']"
      ]
     },
     "execution_count": 4,
     "metadata": {},
     "output_type": "execute_result"
    }
   ],
   "source": [
    "list(sims.keys())"
   ]
  },
  {
   "cell_type": "markdown",
   "metadata": {},
   "source": [
    "## High-level visualization API\n",
    "\n",
    "### `EpiSummary` objects\n",
    "\n",
    "To process a simulation output for visualization, we first need to create an `EpiSummary` object and identify the state, time, within-simulation, between-simulation, and measured coordinates in our xarray. These attributes will allow `EpiSummary` methods to parse the xarray and produce aggregate statistics."
   ]
  },
  {
   "cell_type": "code",
   "execution_count": 5,
   "metadata": {},
   "outputs": [],
   "source": [
    "test = EpiSummary(\n",
    "    simulation=sims,\n",
    "    state_coord=['compt'],\n",
    "    within_sim_coord=['age', 'risk', 'vertex'],\n",
    "    time_coord=['step'],\n",
    "    between_sim_coord=['index'],\n",
    "    measured_coord=['compt_model__state']\n",
    ")"
   ]
  },
  {
   "cell_type": "markdown",
   "metadata": {},
   "source": [
    "### Prediction interval plots\n",
    "\n",
    "The `EpiSummary.interval_plot()` method calculates the median and upper and lower quantiles, and generates time series graphs that display simulation median and spread between upper and lower quantiles.\n",
    "\n",
    "The grouping variables -- state, time, and within-simulation coordinates -- indicate within which groups to calculate median and quantiles. The measurement variable must also be specified, as well as the values of the quantiles to calculate.\n",
    "\n",
    "The resulting plot uses plotly widgets to allow selection of specific groups for display. Dropdown menus are populated with the values of each grouping coordinate."
   ]
  },
  {
   "cell_type": "code",
   "execution_count": 6,
   "metadata": {},
   "outputs": [
    {
     "name": "stdout",
     "output_type": "stream",
     "text": [
      "Calculating quantile 0.5 for ['compt_model__state'] after summation over variables [None].\n",
      "Dropping columns Index(['index'], dtype='object') and aggregating by ['age', 'risk', 'step', 'vertex', 'compt'].\n"
     ]
    },
    {
     "name": "stderr",
     "output_type": "stream",
     "text": [
      "/Users/kpierce/epivislab/evl-venv/lib/python3.9/site-packages/pandas/core/dtypes/cast.py:1231: VisibleDeprecationWarning: Creating an ndarray from ragged nested sequences (which is a list-or-tuple of lists-or-tuples-or ndarrays with different lengths or shapes) is deprecated. If you meant to do this, you must specify 'dtype=object' when creating the ndarray.\n",
      "  v = np.array(v, copy=False)\n",
      "/Users/kpierce/epivislab/evl-venv/lib/python3.9/site-packages/pandas/core/dtypes/cast.py:1625: VisibleDeprecationWarning: Creating an ndarray from ragged nested sequences (which is a list-or-tuple of lists-or-tuples-or ndarrays with different lengths or shapes) is deprecated. If you meant to do this, you must specify 'dtype=object' when creating the ndarray.\n",
      "  subarr = np.array(values, dtype=dtype, copy=copy)\n",
      "/Users/kpierce/epivislab/evl-venv/lib/python3.9/site-packages/pandas/core/common.py:228: VisibleDeprecationWarning: Creating an ndarray from ragged nested sequences (which is a list-or-tuple of lists-or-tuples-or ndarrays with different lengths or shapes) is deprecated. If you meant to do this, you must specify 'dtype=object' when creating the ndarray.\n",
      "  result = np.asarray(values, dtype=dtype)\n"
     ]
    },
    {
     "name": "stdout",
     "output_type": "stream",
     "text": [
      "Calculating quantile 0.9 for ['compt_model__state'] after summation over variables [None].\n",
      "Dropping columns Index(['index'], dtype='object') and aggregating by ['age', 'risk', 'step', 'vertex', 'compt'].\n",
      "Calculating quantile 0.05 for ['compt_model__state'] after summation over variables [None].\n",
      "Dropping columns Index(['index'], dtype='object') and aggregating by ['age', 'risk', 'step', 'vertex', 'compt'].\n"
     ]
    }
   ],
   "source": [
    "fig = test.interval_plot(\n",
    "    groupers=['age', 'risk', 'step', 'vertex', 'compt'], \n",
    "    aggcol='compt_model__state',\n",
    "    upper=0.9, \n",
    "    lower=0.05)"
   ]
  },
  {
   "cell_type": "code",
   "execution_count": 7,
   "metadata": {},
   "outputs": [
    {
     "data": {
      "application/vnd.jupyter.widget-view+json": {
       "model_id": "1ffef3011cf0463e881a7cc0af067f53",
       "version_major": 2,
       "version_minor": 0
      },
      "text/plain": [
       "VBox(children=(HBox(children=(Dropdown(description='age', options=('0-4', '18-49', '5-17', '50-64', '65+'), va…"
      ]
     },
     "metadata": {},
     "output_type": "display_data"
    }
   ],
   "source": [
    "fig"
   ]
  },
  {
   "cell_type": "markdown",
   "metadata": {},
   "source": [
    "If not all within-simulation coordinates are passed as grouping variables, the results will be summed over that coordinate prior to median and quantile calculation. In the example below, `age` is omitted from the `groupers` argument, so populations within each vertex, risk group, and vertex are summed (the `prediction_interval` understand that `step` and `compt` are special coordinates and knows not to sum over them). The dropdown menus reflect only the grouping coordinates retained after the summation."
   ]
  },
  {
   "cell_type": "code",
   "execution_count": 8,
   "metadata": {},
   "outputs": [
    {
     "name": "stdout",
     "output_type": "stream",
     "text": [
      "Summing ['compt_model__state'] over variables {'age'}; retaining groups ['risk', 'step', 'vertex', 'compt', 'index'].\n",
      "Calculating quantile 0.5 for ['compt_model__state'] after summation over variables [{'age'}].\n",
      "Dropping columns Index([], dtype='object') and aggregating by ['risk', 'step', 'vertex', 'compt'].\n",
      "Summing ['compt_model__state'] over variables {'age'}; retaining groups ['risk', 'step', 'vertex', 'compt', 'index'].\n",
      "Calculating quantile 0.9 for ['compt_model__state'] after summation over variables [{'age'}]."
     ]
    },
    {
     "name": "stderr",
     "output_type": "stream",
     "text": [
      "/Users/kpierce/epivislab/evl-venv/lib/python3.9/site-packages/pandas/core/dtypes/cast.py:1231: VisibleDeprecationWarning:\n",
      "\n",
      "Creating an ndarray from ragged nested sequences (which is a list-or-tuple of lists-or-tuples-or ndarrays with different lengths or shapes) is deprecated. If you meant to do this, you must specify 'dtype=object' when creating the ndarray.\n",
      "\n",
      "/Users/kpierce/epivislab/evl-venv/lib/python3.9/site-packages/pandas/core/dtypes/cast.py:1625: VisibleDeprecationWarning:\n",
      "\n",
      "Creating an ndarray from ragged nested sequences (which is a list-or-tuple of lists-or-tuples-or ndarrays with different lengths or shapes) is deprecated. If you meant to do this, you must specify 'dtype=object' when creating the ndarray.\n",
      "\n",
      "/Users/kpierce/epivislab/evl-venv/lib/python3.9/site-packages/pandas/core/common.py:228: VisibleDeprecationWarning:\n",
      "\n",
      "Creating an ndarray from ragged nested sequences (which is a list-or-tuple of lists-or-tuples-or ndarrays with different lengths or shapes) is deprecated. If you meant to do this, you must specify 'dtype=object' when creating the ndarray.\n",
      "\n"
     ]
    },
    {
     "name": "stdout",
     "output_type": "stream",
     "text": [
      "\n",
      "Dropping columns Index([], dtype='object') and aggregating by ['risk', 'step', 'vertex', 'compt'].\n",
      "Summing ['compt_model__state'] over variables {'age'}; retaining groups ['risk', 'step', 'vertex', 'compt', 'index'].\n",
      "Calculating quantile 0.05 for ['compt_model__state'] after summation over variables [{'age'}].\n",
      "Dropping columns Index([], dtype='object') and aggregating by ['risk', 'step', 'vertex', 'compt'].\n"
     ]
    }
   ],
   "source": [
    "fig2 = test.interval_plot(\n",
    "    groupers=['risk', 'step', 'vertex', 'compt'], \n",
    "    aggcol='compt_model__state',\n",
    "    upper=0.9, \n",
    "    lower=0.05)"
   ]
  },
  {
   "cell_type": "code",
   "execution_count": 9,
   "metadata": {},
   "outputs": [
    {
     "data": {
      "application/vnd.jupyter.widget-view+json": {
       "model_id": "52029da85c904e908cea8488f2517439",
       "version_major": 2,
       "version_minor": 0
      },
      "text/plain": [
       "VBox(children=(HBox(children=(Dropdown(description='risk', options=('high', 'low'), value='high'), Dropdown(de…"
      ]
     },
     "metadata": {},
     "output_type": "display_data"
    }
   ],
   "source": [
    "fig2"
   ]
  },
  {
   "cell_type": "markdown",
   "metadata": {},
   "source": [
    "### Spaghetti plots\n",
    "\n",
    "The `EpiSummary.spaghetti_plot()` generates a time series with individual simulation results represented as different lines.\n",
    "\n",
    "By default, no aggregations or calculations are performed on simulation data to generate this plot. Simply calling the `EpiSummary.spaghetti_plot()` method will generate a plot with one line per simulation."
   ]
  },
  {
   "cell_type": "code",
   "execution_count": 10,
   "metadata": {
    "scrolled": false
   },
   "outputs": [],
   "source": [
    "fig3 = test.spaghetti_plot()"
   ]
  },
  {
   "cell_type": "code",
   "execution_count": 11,
   "metadata": {},
   "outputs": [
    {
     "data": {
      "application/vnd.jupyter.widget-view+json": {
       "model_id": "de18eaa4586c425481bdc6ee2654b772",
       "version_major": 2,
       "version_minor": 0
      },
      "text/plain": [
       "VBox(children=(HBox(children=(Dropdown(description='age', options=('0-4', '5-17', '18-49', '50-64', '65+'), va…"
      ]
     },
     "metadata": {},
     "output_type": "display_data"
    }
   ],
   "source": [
    "fig3"
   ]
  },
  {
   "cell_type": "markdown",
   "metadata": {},
   "source": [
    "Optionally, you may specify a set of grouping variables. As with the `EpiSummary.prediction_interval()` method, simulation results will be summed over coordinates not listed as grouping variables and the dropdown menus are updated accordingly. An `aggcol` must be specified in `groupers` are listed."
   ]
  },
  {
   "cell_type": "code",
   "execution_count": 12,
   "metadata": {},
   "outputs": [
    {
     "name": "stdout",
     "output_type": "stream",
     "text": [
      "Not all compt_model__state measures are listed as simulation measurements (['compt_model__state']).\n",
      "Summing compt_model__state over variables {'risk'}; retaining groups ['age', 'compt', 'vertex', 'index', 'step'].\n"
     ]
    }
   ],
   "source": [
    "fig4 = test.spaghetti_plot(groupers=['age', 'compt', 'vertex', 'index', 'step'], aggcol='compt_model__state')"
   ]
  },
  {
   "cell_type": "code",
   "execution_count": 13,
   "metadata": {},
   "outputs": [
    {
     "data": {
      "application/vnd.jupyter.widget-view+json": {
       "model_id": "7db23c9a5dc0461b9eeccb003b47a794",
       "version_major": 2,
       "version_minor": 0
      },
      "text/plain": [
       "VBox(children=(HBox(children=(Dropdown(description='age', options=('0-4', '18-49', '5-17', '50-64', '65+'), va…"
      ]
     },
     "metadata": {},
     "output_type": "display_data"
    }
   ],
   "source": [
    "fig4"
   ]
  },
  {
   "cell_type": "markdown",
   "metadata": {},
   "source": [
    "## Other `EpiSummary` methods\n",
    "\n",
    "`EpiSummary.interval_plot()` and `EpiSummary.spaghetti_plot()` are high-level workflow methods that manipulate data and generate plots without returning data.\n",
    "\n",
    "Other methods in the `EpiSummary` class manipulate data and return data objects.\n",
    "- `EpiSummary.sum_over_groups()` sums xarray data within individual simulations, maintaining a specified set of data groupings, and returns a dask DataFrame.\n",
    "- `EpiSummary.quantile_between_sims()` calculates quantiles for variables (grouped or ungrouped) across multiple simulations in an xarray, and returns a dask DataFrame. If any variables are missing from the list of grouping variables, this method will call `EpiSummary.sum_over_groups()` to sum them before calculating quantiles. This ensures a valid quantile calculation.\n",
    "- `EpiSummary.prediction_interval()` calculates the median, upper and lower quantiles of xarray data and returns n xarray."
   ]
  },
  {
   "cell_type": "markdown",
   "metadata": {},
   "source": [
    "### Prediction interval workflow\n",
    "\n",
    "Submodule `epivislab.timeseries` contains methods for generating prediction intervals and spaghetti plots from xarray data."
   ]
  },
  {
   "cell_type": "code",
   "execution_count": 14,
   "metadata": {},
   "outputs": [],
   "source": [
    "from epivislab.timeseries import interval_timeseries, spaghetti_timeseries"
   ]
  },
  {
   "cell_type": "markdown",
   "metadata": {},
   "source": [
    "The method `Episimlab.prediction_interval()` calculates the median, upper, and lower quantiles and returns a new `xarray` object."
   ]
  },
  {
   "cell_type": "code",
   "execution_count": 15,
   "metadata": {},
   "outputs": [
    {
     "name": "stdout",
     "output_type": "stream",
     "text": [
      "Summing ['compt_model__state'] over variables {'age'}; retaining groups ['risk', 'step', 'vertex', 'compt', 'index'].\n",
      "Calculating quantile 0.5 for ['compt_model__state'] after summation over variables [{'age'}].\n",
      "Dropping columns Index([], dtype='object') and aggregating by ['risk', 'step', 'vertex', 'compt'].\n"
     ]
    },
    {
     "name": "stderr",
     "output_type": "stream",
     "text": [
      "/Users/kpierce/epivislab/evl-venv/lib/python3.9/site-packages/pandas/core/dtypes/cast.py:1231: VisibleDeprecationWarning:\n",
      "\n",
      "Creating an ndarray from ragged nested sequences (which is a list-or-tuple of lists-or-tuples-or ndarrays with different lengths or shapes) is deprecated. If you meant to do this, you must specify 'dtype=object' when creating the ndarray.\n",
      "\n",
      "/Users/kpierce/epivislab/evl-venv/lib/python3.9/site-packages/pandas/core/dtypes/cast.py:1625: VisibleDeprecationWarning:\n",
      "\n",
      "Creating an ndarray from ragged nested sequences (which is a list-or-tuple of lists-or-tuples-or ndarrays with different lengths or shapes) is deprecated. If you meant to do this, you must specify 'dtype=object' when creating the ndarray.\n",
      "\n",
      "/Users/kpierce/epivislab/evl-venv/lib/python3.9/site-packages/pandas/core/common.py:228: VisibleDeprecationWarning:\n",
      "\n",
      "Creating an ndarray from ragged nested sequences (which is a list-or-tuple of lists-or-tuples-or ndarrays with different lengths or shapes) is deprecated. If you meant to do this, you must specify 'dtype=object' when creating the ndarray.\n",
      "\n"
     ]
    },
    {
     "name": "stdout",
     "output_type": "stream",
     "text": [
      "Summing ['compt_model__state'] over variables {'age'}; retaining groups ['risk', 'step', 'vertex', 'compt', 'index'].\n",
      "Calculating quantile 0.9 for ['compt_model__state'] after summation over variables [{'age'}].\n",
      "Dropping columns Index([], dtype='object') and aggregating by ['risk', 'step', 'vertex', 'compt'].\n",
      "Summing ['compt_model__state'] over variables {'age'}; retaining groups ['risk', 'step', 'vertex', 'compt', 'index'].\n",
      "Calculating quantile 0.05 for ['compt_model__state'] after summation over variables [{'age'}].\n",
      "Dropping columns Index([], dtype='object') and aggregating by ['risk', 'step', 'vertex', 'compt'].\n"
     ]
    }
   ],
   "source": [
    "summary_all_ages = test.prediction_interval(\n",
    "    groupers=['risk', 'step', 'vertex', 'compt'], \n",
    "    aggcol='compt_model__state',\n",
    "    upper=0.9, \n",
    "    lower=0.05)"
   ]
  },
  {
   "cell_type": "code",
   "execution_count": 16,
   "metadata": {},
   "outputs": [
    {
     "data": {
      "text/html": [
       "<div><svg style=\"position: absolute; width: 0; height: 0; overflow: hidden\">\n",
       "<defs>\n",
       "<symbol id=\"icon-database\" viewBox=\"0 0 32 32\">\n",
       "<path d=\"M16 0c-8.837 0-16 2.239-16 5v4c0 2.761 7.163 5 16 5s16-2.239 16-5v-4c0-2.761-7.163-5-16-5z\"></path>\n",
       "<path d=\"M16 17c-8.837 0-16-2.239-16-5v6c0 2.761 7.163 5 16 5s16-2.239 16-5v-6c0 2.761-7.163 5-16 5z\"></path>\n",
       "<path d=\"M16 26c-8.837 0-16-2.239-16-5v6c0 2.761 7.163 5 16 5s16-2.239 16-5v-6c0 2.761-7.163 5-16 5z\"></path>\n",
       "</symbol>\n",
       "<symbol id=\"icon-file-text2\" viewBox=\"0 0 32 32\">\n",
       "<path d=\"M28.681 7.159c-0.694-0.947-1.662-2.053-2.724-3.116s-2.169-2.030-3.116-2.724c-1.612-1.182-2.393-1.319-2.841-1.319h-15.5c-1.378 0-2.5 1.121-2.5 2.5v27c0 1.378 1.122 2.5 2.5 2.5h23c1.378 0 2.5-1.122 2.5-2.5v-19.5c0-0.448-0.137-1.23-1.319-2.841zM24.543 5.457c0.959 0.959 1.712 1.825 2.268 2.543h-4.811v-4.811c0.718 0.556 1.584 1.309 2.543 2.268zM28 29.5c0 0.271-0.229 0.5-0.5 0.5h-23c-0.271 0-0.5-0.229-0.5-0.5v-27c0-0.271 0.229-0.5 0.5-0.5 0 0 15.499-0 15.5 0v7c0 0.552 0.448 1 1 1h7v19.5z\"></path>\n",
       "<path d=\"M23 26h-14c-0.552 0-1-0.448-1-1s0.448-1 1-1h14c0.552 0 1 0.448 1 1s-0.448 1-1 1z\"></path>\n",
       "<path d=\"M23 22h-14c-0.552 0-1-0.448-1-1s0.448-1 1-1h14c0.552 0 1 0.448 1 1s-0.448 1-1 1z\"></path>\n",
       "<path d=\"M23 18h-14c-0.552 0-1-0.448-1-1s0.448-1 1-1h14c0.552 0 1 0.448 1 1s-0.448 1-1 1z\"></path>\n",
       "</symbol>\n",
       "</defs>\n",
       "</svg>\n",
       "<style>/* CSS stylesheet for displaying xarray objects in jupyterlab.\n",
       " *\n",
       " */\n",
       "\n",
       ":root {\n",
       "  --xr-font-color0: var(--jp-content-font-color0, rgba(0, 0, 0, 1));\n",
       "  --xr-font-color2: var(--jp-content-font-color2, rgba(0, 0, 0, 0.54));\n",
       "  --xr-font-color3: var(--jp-content-font-color3, rgba(0, 0, 0, 0.38));\n",
       "  --xr-border-color: var(--jp-border-color2, #e0e0e0);\n",
       "  --xr-disabled-color: var(--jp-layout-color3, #bdbdbd);\n",
       "  --xr-background-color: var(--jp-layout-color0, white);\n",
       "  --xr-background-color-row-even: var(--jp-layout-color1, white);\n",
       "  --xr-background-color-row-odd: var(--jp-layout-color2, #eeeeee);\n",
       "}\n",
       "\n",
       "html[theme=dark],\n",
       "body.vscode-dark {\n",
       "  --xr-font-color0: rgba(255, 255, 255, 1);\n",
       "  --xr-font-color2: rgba(255, 255, 255, 0.54);\n",
       "  --xr-font-color3: rgba(255, 255, 255, 0.38);\n",
       "  --xr-border-color: #1F1F1F;\n",
       "  --xr-disabled-color: #515151;\n",
       "  --xr-background-color: #111111;\n",
       "  --xr-background-color-row-even: #111111;\n",
       "  --xr-background-color-row-odd: #313131;\n",
       "}\n",
       "\n",
       ".xr-wrap {\n",
       "  display: block !important;\n",
       "  min-width: 300px;\n",
       "  max-width: 700px;\n",
       "}\n",
       "\n",
       ".xr-text-repr-fallback {\n",
       "  /* fallback to plain text repr when CSS is not injected (untrusted notebook) */\n",
       "  display: none;\n",
       "}\n",
       "\n",
       ".xr-header {\n",
       "  padding-top: 6px;\n",
       "  padding-bottom: 6px;\n",
       "  margin-bottom: 4px;\n",
       "  border-bottom: solid 1px var(--xr-border-color);\n",
       "}\n",
       "\n",
       ".xr-header > div,\n",
       ".xr-header > ul {\n",
       "  display: inline;\n",
       "  margin-top: 0;\n",
       "  margin-bottom: 0;\n",
       "}\n",
       "\n",
       ".xr-obj-type,\n",
       ".xr-array-name {\n",
       "  margin-left: 2px;\n",
       "  margin-right: 10px;\n",
       "}\n",
       "\n",
       ".xr-obj-type {\n",
       "  color: var(--xr-font-color2);\n",
       "}\n",
       "\n",
       ".xr-sections {\n",
       "  padding-left: 0 !important;\n",
       "  display: grid;\n",
       "  grid-template-columns: 150px auto auto 1fr 20px 20px;\n",
       "}\n",
       "\n",
       ".xr-section-item {\n",
       "  display: contents;\n",
       "}\n",
       "\n",
       ".xr-section-item input {\n",
       "  display: none;\n",
       "}\n",
       "\n",
       ".xr-section-item input + label {\n",
       "  color: var(--xr-disabled-color);\n",
       "}\n",
       "\n",
       ".xr-section-item input:enabled + label {\n",
       "  cursor: pointer;\n",
       "  color: var(--xr-font-color2);\n",
       "}\n",
       "\n",
       ".xr-section-item input:enabled + label:hover {\n",
       "  color: var(--xr-font-color0);\n",
       "}\n",
       "\n",
       ".xr-section-summary {\n",
       "  grid-column: 1;\n",
       "  color: var(--xr-font-color2);\n",
       "  font-weight: 500;\n",
       "}\n",
       "\n",
       ".xr-section-summary > span {\n",
       "  display: inline-block;\n",
       "  padding-left: 0.5em;\n",
       "}\n",
       "\n",
       ".xr-section-summary-in:disabled + label {\n",
       "  color: var(--xr-font-color2);\n",
       "}\n",
       "\n",
       ".xr-section-summary-in + label:before {\n",
       "  display: inline-block;\n",
       "  content: '►';\n",
       "  font-size: 11px;\n",
       "  width: 15px;\n",
       "  text-align: center;\n",
       "}\n",
       "\n",
       ".xr-section-summary-in:disabled + label:before {\n",
       "  color: var(--xr-disabled-color);\n",
       "}\n",
       "\n",
       ".xr-section-summary-in:checked + label:before {\n",
       "  content: '▼';\n",
       "}\n",
       "\n",
       ".xr-section-summary-in:checked + label > span {\n",
       "  display: none;\n",
       "}\n",
       "\n",
       ".xr-section-summary,\n",
       ".xr-section-inline-details {\n",
       "  padding-top: 4px;\n",
       "  padding-bottom: 4px;\n",
       "}\n",
       "\n",
       ".xr-section-inline-details {\n",
       "  grid-column: 2 / -1;\n",
       "}\n",
       "\n",
       ".xr-section-details {\n",
       "  display: none;\n",
       "  grid-column: 1 / -1;\n",
       "  margin-bottom: 5px;\n",
       "}\n",
       "\n",
       ".xr-section-summary-in:checked ~ .xr-section-details {\n",
       "  display: contents;\n",
       "}\n",
       "\n",
       ".xr-array-wrap {\n",
       "  grid-column: 1 / -1;\n",
       "  display: grid;\n",
       "  grid-template-columns: 20px auto;\n",
       "}\n",
       "\n",
       ".xr-array-wrap > label {\n",
       "  grid-column: 1;\n",
       "  vertical-align: top;\n",
       "}\n",
       "\n",
       ".xr-preview {\n",
       "  color: var(--xr-font-color3);\n",
       "}\n",
       "\n",
       ".xr-array-preview,\n",
       ".xr-array-data {\n",
       "  padding: 0 5px !important;\n",
       "  grid-column: 2;\n",
       "}\n",
       "\n",
       ".xr-array-data,\n",
       ".xr-array-in:checked ~ .xr-array-preview {\n",
       "  display: none;\n",
       "}\n",
       "\n",
       ".xr-array-in:checked ~ .xr-array-data,\n",
       ".xr-array-preview {\n",
       "  display: inline-block;\n",
       "}\n",
       "\n",
       ".xr-dim-list {\n",
       "  display: inline-block !important;\n",
       "  list-style: none;\n",
       "  padding: 0 !important;\n",
       "  margin: 0;\n",
       "}\n",
       "\n",
       ".xr-dim-list li {\n",
       "  display: inline-block;\n",
       "  padding: 0;\n",
       "  margin: 0;\n",
       "}\n",
       "\n",
       ".xr-dim-list:before {\n",
       "  content: '(';\n",
       "}\n",
       "\n",
       ".xr-dim-list:after {\n",
       "  content: ')';\n",
       "}\n",
       "\n",
       ".xr-dim-list li:not(:last-child):after {\n",
       "  content: ',';\n",
       "  padding-right: 5px;\n",
       "}\n",
       "\n",
       ".xr-has-index {\n",
       "  font-weight: bold;\n",
       "}\n",
       "\n",
       ".xr-var-list,\n",
       ".xr-var-item {\n",
       "  display: contents;\n",
       "}\n",
       "\n",
       ".xr-var-item > div,\n",
       ".xr-var-item label,\n",
       ".xr-var-item > .xr-var-name span {\n",
       "  background-color: var(--xr-background-color-row-even);\n",
       "  margin-bottom: 0;\n",
       "}\n",
       "\n",
       ".xr-var-item > .xr-var-name:hover span {\n",
       "  padding-right: 5px;\n",
       "}\n",
       "\n",
       ".xr-var-list > li:nth-child(odd) > div,\n",
       ".xr-var-list > li:nth-child(odd) > label,\n",
       ".xr-var-list > li:nth-child(odd) > .xr-var-name span {\n",
       "  background-color: var(--xr-background-color-row-odd);\n",
       "}\n",
       "\n",
       ".xr-var-name {\n",
       "  grid-column: 1;\n",
       "}\n",
       "\n",
       ".xr-var-dims {\n",
       "  grid-column: 2;\n",
       "}\n",
       "\n",
       ".xr-var-dtype {\n",
       "  grid-column: 3;\n",
       "  text-align: right;\n",
       "  color: var(--xr-font-color2);\n",
       "}\n",
       "\n",
       ".xr-var-preview {\n",
       "  grid-column: 4;\n",
       "}\n",
       "\n",
       ".xr-var-name,\n",
       ".xr-var-dims,\n",
       ".xr-var-dtype,\n",
       ".xr-preview,\n",
       ".xr-attrs dt {\n",
       "  white-space: nowrap;\n",
       "  overflow: hidden;\n",
       "  text-overflow: ellipsis;\n",
       "  padding-right: 10px;\n",
       "}\n",
       "\n",
       ".xr-var-name:hover,\n",
       ".xr-var-dims:hover,\n",
       ".xr-var-dtype:hover,\n",
       ".xr-attrs dt:hover {\n",
       "  overflow: visible;\n",
       "  width: auto;\n",
       "  z-index: 1;\n",
       "}\n",
       "\n",
       ".xr-var-attrs,\n",
       ".xr-var-data {\n",
       "  display: none;\n",
       "  background-color: var(--xr-background-color) !important;\n",
       "  padding-bottom: 5px !important;\n",
       "}\n",
       "\n",
       ".xr-var-attrs-in:checked ~ .xr-var-attrs,\n",
       ".xr-var-data-in:checked ~ .xr-var-data {\n",
       "  display: block;\n",
       "}\n",
       "\n",
       ".xr-var-data > table {\n",
       "  float: right;\n",
       "}\n",
       "\n",
       ".xr-var-name span,\n",
       ".xr-var-data,\n",
       ".xr-attrs {\n",
       "  padding-left: 25px !important;\n",
       "}\n",
       "\n",
       ".xr-attrs,\n",
       ".xr-var-attrs,\n",
       ".xr-var-data {\n",
       "  grid-column: 1 / -1;\n",
       "}\n",
       "\n",
       "dl.xr-attrs {\n",
       "  padding: 0;\n",
       "  margin: 0;\n",
       "  display: grid;\n",
       "  grid-template-columns: 125px auto;\n",
       "}\n",
       "\n",
       ".xr-attrs dt,\n",
       ".xr-attrs dd {\n",
       "  padding: 0;\n",
       "  margin: 0;\n",
       "  float: left;\n",
       "  padding-right: 10px;\n",
       "  width: auto;\n",
       "}\n",
       "\n",
       ".xr-attrs dt {\n",
       "  font-weight: normal;\n",
       "  grid-column: 1;\n",
       "}\n",
       "\n",
       ".xr-attrs dt:hover span {\n",
       "  display: inline-block;\n",
       "  background: var(--xr-background-color);\n",
       "  padding-right: 10px;\n",
       "}\n",
       "\n",
       ".xr-attrs dd {\n",
       "  grid-column: 2;\n",
       "  white-space: pre-wrap;\n",
       "  word-break: break-all;\n",
       "}\n",
       "\n",
       ".xr-icon-database,\n",
       ".xr-icon-file-text2 {\n",
       "  display: inline-block;\n",
       "  vertical-align: middle;\n",
       "  width: 1em;\n",
       "  height: 1.5em !important;\n",
       "  stroke-width: 0;\n",
       "  stroke: currentColor;\n",
       "  fill: currentColor;\n",
       "}\n",
       "</style><pre class='xr-text-repr-fallback'>&lt;xarray.Dataset&gt;\n",
       "Dimensions:  (risk: 2, step: 22, vertex: 1, compt: 9)\n",
       "Coordinates:\n",
       "  * risk     (risk) object &#x27;high&#x27; &#x27;low&#x27;\n",
       "  * step     (step) datetime64[ns] 2020-03-11 2020-03-12 ... 2020-04-01\n",
       "  * vertex   (vertex) object &#x27;Austin&#x27;\n",
       "  * compt    (compt) object &#x27;D&#x27; &#x27;E&#x27; &#x27;Ia&#x27; &#x27;Ih&#x27; &#x27;Iy&#x27; &#x27;Pa&#x27; &#x27;Py&#x27; &#x27;R&#x27; &#x27;S&#x27;\n",
       "Data variables:\n",
       "    index_x  (risk, step, vertex, compt) int64 0 1 2 3 4 ... 391 392 393 394 395\n",
       "    upper    (risk, step, vertex, compt) float64 0.0 0.0 ... 979.0 1.421e-15\n",
       "    index_y  (risk, step, vertex, compt) int64 0 1 2 3 4 ... 391 392 393 394 395\n",
       "    lower    (risk, step, vertex, compt) float64 0.0 0.0 25.0 ... 0.45 943.5 0.0\n",
       "    index    (risk, step, vertex, compt) int64 0 1 2 3 4 ... 391 392 393 394 395\n",
       "    median   (risk, step, vertex, compt) float64 0.0 0.0 25.0 ... 2.0 963.0 0.0</pre><div class='xr-wrap' style='display:none'><div class='xr-header'><div class='xr-obj-type'>xarray.Dataset</div></div><ul class='xr-sections'><li class='xr-section-item'><input id='section-b6a9365c-93d5-4fb8-beb7-c349c6d16a27' class='xr-section-summary-in' type='checkbox' disabled ><label for='section-b6a9365c-93d5-4fb8-beb7-c349c6d16a27' class='xr-section-summary'  title='Expand/collapse section'>Dimensions:</label><div class='xr-section-inline-details'><ul class='xr-dim-list'><li><span class='xr-has-index'>risk</span>: 2</li><li><span class='xr-has-index'>step</span>: 22</li><li><span class='xr-has-index'>vertex</span>: 1</li><li><span class='xr-has-index'>compt</span>: 9</li></ul></div><div class='xr-section-details'></div></li><li class='xr-section-item'><input id='section-b99fb126-52e1-4d9b-9a7a-41b1bc30664a' class='xr-section-summary-in' type='checkbox'  checked><label for='section-b99fb126-52e1-4d9b-9a7a-41b1bc30664a' class='xr-section-summary' >Coordinates: <span>(4)</span></label><div class='xr-section-inline-details'></div><div class='xr-section-details'><ul class='xr-var-list'><li class='xr-var-item'><div class='xr-var-name'><span class='xr-has-index'>risk</span></div><div class='xr-var-dims'>(risk)</div><div class='xr-var-dtype'>object</div><div class='xr-var-preview xr-preview'>&#x27;high&#x27; &#x27;low&#x27;</div><input id='attrs-e3c774f3-c132-4ce2-9800-a67edc750006' class='xr-var-attrs-in' type='checkbox' disabled><label for='attrs-e3c774f3-c132-4ce2-9800-a67edc750006' title='Show/Hide attributes'><svg class='icon xr-icon-file-text2'><use xlink:href='#icon-file-text2'></use></svg></label><input id='data-2fad7c9a-3ad6-424a-b528-ccd1e0afc48b' class='xr-var-data-in' type='checkbox'><label for='data-2fad7c9a-3ad6-424a-b528-ccd1e0afc48b' title='Show/Hide data repr'><svg class='icon xr-icon-database'><use xlink:href='#icon-database'></use></svg></label><div class='xr-var-attrs'><dl class='xr-attrs'></dl></div><div class='xr-var-data'><pre>array([&#x27;high&#x27;, &#x27;low&#x27;], dtype=object)</pre></div></li><li class='xr-var-item'><div class='xr-var-name'><span class='xr-has-index'>step</span></div><div class='xr-var-dims'>(step)</div><div class='xr-var-dtype'>datetime64[ns]</div><div class='xr-var-preview xr-preview'>2020-03-11 ... 2020-04-01</div><input id='attrs-942b4bc0-f6a5-4c9b-ba7f-27bffd23f391' class='xr-var-attrs-in' type='checkbox' disabled><label for='attrs-942b4bc0-f6a5-4c9b-ba7f-27bffd23f391' title='Show/Hide attributes'><svg class='icon xr-icon-file-text2'><use xlink:href='#icon-file-text2'></use></svg></label><input id='data-7aead206-fb28-49c3-a448-604d420dcd49' class='xr-var-data-in' type='checkbox'><label for='data-7aead206-fb28-49c3-a448-604d420dcd49' title='Show/Hide data repr'><svg class='icon xr-icon-database'><use xlink:href='#icon-database'></use></svg></label><div class='xr-var-attrs'><dl class='xr-attrs'></dl></div><div class='xr-var-data'><pre>array([&#x27;2020-03-11T00:00:00.000000000&#x27;, &#x27;2020-03-12T00:00:00.000000000&#x27;,\n",
       "       &#x27;2020-03-13T00:00:00.000000000&#x27;, &#x27;2020-03-14T00:00:00.000000000&#x27;,\n",
       "       &#x27;2020-03-15T00:00:00.000000000&#x27;, &#x27;2020-03-16T00:00:00.000000000&#x27;,\n",
       "       &#x27;2020-03-17T00:00:00.000000000&#x27;, &#x27;2020-03-18T00:00:00.000000000&#x27;,\n",
       "       &#x27;2020-03-19T00:00:00.000000000&#x27;, &#x27;2020-03-20T00:00:00.000000000&#x27;,\n",
       "       &#x27;2020-03-21T00:00:00.000000000&#x27;, &#x27;2020-03-22T00:00:00.000000000&#x27;,\n",
       "       &#x27;2020-03-23T00:00:00.000000000&#x27;, &#x27;2020-03-24T00:00:00.000000000&#x27;,\n",
       "       &#x27;2020-03-25T00:00:00.000000000&#x27;, &#x27;2020-03-26T00:00:00.000000000&#x27;,\n",
       "       &#x27;2020-03-27T00:00:00.000000000&#x27;, &#x27;2020-03-28T00:00:00.000000000&#x27;,\n",
       "       &#x27;2020-03-29T00:00:00.000000000&#x27;, &#x27;2020-03-30T00:00:00.000000000&#x27;,\n",
       "       &#x27;2020-03-31T00:00:00.000000000&#x27;, &#x27;2020-04-01T00:00:00.000000000&#x27;],\n",
       "      dtype=&#x27;datetime64[ns]&#x27;)</pre></div></li><li class='xr-var-item'><div class='xr-var-name'><span class='xr-has-index'>vertex</span></div><div class='xr-var-dims'>(vertex)</div><div class='xr-var-dtype'>object</div><div class='xr-var-preview xr-preview'>&#x27;Austin&#x27;</div><input id='attrs-841e3c0f-b858-49bd-9796-ddee55ca2a62' class='xr-var-attrs-in' type='checkbox' disabled><label for='attrs-841e3c0f-b858-49bd-9796-ddee55ca2a62' title='Show/Hide attributes'><svg class='icon xr-icon-file-text2'><use xlink:href='#icon-file-text2'></use></svg></label><input id='data-eebe9b28-5516-4215-b49b-b61e79071aad' class='xr-var-data-in' type='checkbox'><label for='data-eebe9b28-5516-4215-b49b-b61e79071aad' title='Show/Hide data repr'><svg class='icon xr-icon-database'><use xlink:href='#icon-database'></use></svg></label><div class='xr-var-attrs'><dl class='xr-attrs'></dl></div><div class='xr-var-data'><pre>array([&#x27;Austin&#x27;], dtype=object)</pre></div></li><li class='xr-var-item'><div class='xr-var-name'><span class='xr-has-index'>compt</span></div><div class='xr-var-dims'>(compt)</div><div class='xr-var-dtype'>object</div><div class='xr-var-preview xr-preview'>&#x27;D&#x27; &#x27;E&#x27; &#x27;Ia&#x27; &#x27;Ih&#x27; ... &#x27;Py&#x27; &#x27;R&#x27; &#x27;S&#x27;</div><input id='attrs-5c1f529c-e581-4673-b2ec-a85aa4314600' class='xr-var-attrs-in' type='checkbox' disabled><label for='attrs-5c1f529c-e581-4673-b2ec-a85aa4314600' title='Show/Hide attributes'><svg class='icon xr-icon-file-text2'><use xlink:href='#icon-file-text2'></use></svg></label><input id='data-dda894b1-7072-4779-a8e8-ae8ecc6ff3b5' class='xr-var-data-in' type='checkbox'><label for='data-dda894b1-7072-4779-a8e8-ae8ecc6ff3b5' title='Show/Hide data repr'><svg class='icon xr-icon-database'><use xlink:href='#icon-database'></use></svg></label><div class='xr-var-attrs'><dl class='xr-attrs'></dl></div><div class='xr-var-data'><pre>array([&#x27;D&#x27;, &#x27;E&#x27;, &#x27;Ia&#x27;, &#x27;Ih&#x27;, &#x27;Iy&#x27;, &#x27;Pa&#x27;, &#x27;Py&#x27;, &#x27;R&#x27;, &#x27;S&#x27;], dtype=object)</pre></div></li></ul></div></li><li class='xr-section-item'><input id='section-3f290253-236d-4b28-a563-780f322f697d' class='xr-section-summary-in' type='checkbox'  checked><label for='section-3f290253-236d-4b28-a563-780f322f697d' class='xr-section-summary' >Data variables: <span>(6)</span></label><div class='xr-section-inline-details'></div><div class='xr-section-details'><ul class='xr-var-list'><li class='xr-var-item'><div class='xr-var-name'><span>index_x</span></div><div class='xr-var-dims'>(risk, step, vertex, compt)</div><div class='xr-var-dtype'>int64</div><div class='xr-var-preview xr-preview'>0 1 2 3 4 5 ... 391 392 393 394 395</div><input id='attrs-83b05b20-286d-4d1c-8420-522bfc08e5fa' class='xr-var-attrs-in' type='checkbox' disabled><label for='attrs-83b05b20-286d-4d1c-8420-522bfc08e5fa' title='Show/Hide attributes'><svg class='icon xr-icon-file-text2'><use xlink:href='#icon-file-text2'></use></svg></label><input id='data-9b02f008-efde-452d-bb02-f2aad6229c59' class='xr-var-data-in' type='checkbox'><label for='data-9b02f008-efde-452d-bb02-f2aad6229c59' title='Show/Hide data repr'><svg class='icon xr-icon-database'><use xlink:href='#icon-database'></use></svg></label><div class='xr-var-attrs'><dl class='xr-attrs'></dl></div><div class='xr-var-data'><pre>array([[[[  0,   1,   2,   3,   4,   5,   6,   7,   8]],\n",
       "\n",
       "        [[  9,  10,  11,  12,  13,  14,  15,  16,  17]],\n",
       "\n",
       "        [[ 18,  19,  20,  21,  22,  23,  24,  25,  26]],\n",
       "\n",
       "        [[ 27,  28,  29,  30,  31,  32,  33,  34,  35]],\n",
       "\n",
       "        [[ 36,  37,  38,  39,  40,  41,  42,  43,  44]],\n",
       "\n",
       "        [[ 45,  46,  47,  48,  49,  50,  51,  52,  53]],\n",
       "\n",
       "        [[ 54,  55,  56,  57,  58,  59,  60,  61,  62]],\n",
       "\n",
       "        [[ 63,  64,  65,  66,  67,  68,  69,  70,  71]],\n",
       "\n",
       "        [[ 72,  73,  74,  75,  76,  77,  78,  79,  80]],\n",
       "\n",
       "        [[ 81,  82,  83,  84,  85,  86,  87,  88,  89]],\n",
       "\n",
       "...\n",
       "\n",
       "        [[306, 307, 308, 309, 310, 311, 312, 313, 314]],\n",
       "\n",
       "        [[315, 316, 317, 318, 319, 320, 321, 322, 323]],\n",
       "\n",
       "        [[324, 325, 326, 327, 328, 329, 330, 331, 332]],\n",
       "\n",
       "        [[333, 334, 335, 336, 337, 338, 339, 340, 341]],\n",
       "\n",
       "        [[342, 343, 344, 345, 346, 347, 348, 349, 350]],\n",
       "\n",
       "        [[351, 352, 353, 354, 355, 356, 357, 358, 359]],\n",
       "\n",
       "        [[360, 361, 362, 363, 364, 365, 366, 367, 368]],\n",
       "\n",
       "        [[369, 370, 371, 372, 373, 374, 375, 376, 377]],\n",
       "\n",
       "        [[378, 379, 380, 381, 382, 383, 384, 385, 386]],\n",
       "\n",
       "        [[387, 388, 389, 390, 391, 392, 393, 394, 395]]]])</pre></div></li><li class='xr-var-item'><div class='xr-var-name'><span>upper</span></div><div class='xr-var-dims'>(risk, step, vertex, compt)</div><div class='xr-var-dtype'>float64</div><div class='xr-var-preview xr-preview'>0.0 0.0 25.0 ... 979.0 1.421e-15</div><input id='attrs-267ef32d-c959-4508-8644-5c36c04c9194' class='xr-var-attrs-in' type='checkbox' disabled><label for='attrs-267ef32d-c959-4508-8644-5c36c04c9194' title='Show/Hide attributes'><svg class='icon xr-icon-file-text2'><use xlink:href='#icon-file-text2'></use></svg></label><input id='data-39631d2f-3dca-4f7f-bf02-61591ef7388e' class='xr-var-data-in' type='checkbox'><label for='data-39631d2f-3dca-4f7f-bf02-61591ef7388e' title='Show/Hide data repr'><svg class='icon xr-icon-database'><use xlink:href='#icon-database'></use></svg></label><div class='xr-var-attrs'><dl class='xr-attrs'></dl></div><div class='xr-var-data'><pre>array([[[[0.00000000e+00, 0.00000000e+00, 2.50000000e+01,\n",
       "          0.00000000e+00, 0.00000000e+00, 0.00000000e+00,\n",
       "          0.00000000e+00, 0.00000000e+00, 1.00000000e+03]],\n",
       "\n",
       "        [[0.00000000e+00, 1.38000000e+02, 2.01000000e+01,\n",
       "          0.00000000e+00, 0.00000000e+00, 0.00000000e+00,\n",
       "          0.00000000e+00, 8.10000000e+00, 8.81200000e+02]],\n",
       "\n",
       "        [[0.00000000e+00, 1.79400000e+02, 1.61000000e+01,\n",
       "          0.00000000e+00, 0.00000000e+00, 2.51000000e+01,\n",
       "          3.37000000e+01, 1.31000000e+01, 8.08000000e+02]],\n",
       "\n",
       "        [[0.00000000e+00, 4.53200000e+02, 2.32000000e+01,\n",
       "          0.00000000e+00, 1.51000000e+01, 4.26000000e+01,\n",
       "          4.91000000e+01, 1.62000000e+01, 5.16400000e+02]],\n",
       "\n",
       "        [[0.00000000e+00, 4.51600000e+02, 3.53000000e+01,\n",
       "          1.10000000e+00, 3.62000000e+01, 1.18100000e+02,\n",
       "          1.32700000e+02, 2.60000000e+01, 3.50500000e+02]],\n",
       "\n",
       "...\n",
       "\n",
       "        [[1.10000000e+00, 6.40000000e+00, 7.82000000e+01,\n",
       "          8.10000000e+00, 9.24000000e+01, 1.04000000e+01,\n",
       "          1.26178571e+01, 8.91800000e+02, 1.42108547e-15]],\n",
       "\n",
       "        [[1.20000000e+00, 3.30000000e+00, 5.87000000e+01,\n",
       "          7.00000000e+00, 7.64000000e+01, 6.23333333e+00,\n",
       "          9.51785714e+00, 9.17700000e+02, 1.42108547e-15]],\n",
       "\n",
       "        [[1.20000000e+00, 3.20000000e+00, 4.64000000e+01,\n",
       "          7.00000000e+00, 6.22000000e+01, 5.23333333e+00,\n",
       "          7.10000000e+00, 9.47700000e+02, 1.42108547e-15]],\n",
       "\n",
       "        [[1.20000000e+00, 3.20000000e+00, 3.52000000e+01,\n",
       "          7.00000000e+00, 4.92000000e+01, 4.13333333e+00,\n",
       "          5.00000000e+00, 9.61600000e+02, 1.42108547e-15]],\n",
       "\n",
       "        [[1.20000000e+00, 2.10000000e+00, 2.82000000e+01,\n",
       "          7.00000000e+00, 4.28000000e+01, 4.03333333e+00,\n",
       "          3.77500000e+00, 9.79000000e+02, 1.42108547e-15]]]])</pre></div></li><li class='xr-var-item'><div class='xr-var-name'><span>index_y</span></div><div class='xr-var-dims'>(risk, step, vertex, compt)</div><div class='xr-var-dtype'>int64</div><div class='xr-var-preview xr-preview'>0 1 2 3 4 5 ... 391 392 393 394 395</div><input id='attrs-0c1888e5-5ba9-4962-a3d9-eb36f6af7152' class='xr-var-attrs-in' type='checkbox' disabled><label for='attrs-0c1888e5-5ba9-4962-a3d9-eb36f6af7152' title='Show/Hide attributes'><svg class='icon xr-icon-file-text2'><use xlink:href='#icon-file-text2'></use></svg></label><input id='data-c9be36c5-4f6b-4713-b0bc-776a554d17b3' class='xr-var-data-in' type='checkbox'><label for='data-c9be36c5-4f6b-4713-b0bc-776a554d17b3' title='Show/Hide data repr'><svg class='icon xr-icon-database'><use xlink:href='#icon-database'></use></svg></label><div class='xr-var-attrs'><dl class='xr-attrs'></dl></div><div class='xr-var-data'><pre>array([[[[  0,   1,   2,   3,   4,   5,   6,   7,   8]],\n",
       "\n",
       "        [[  9,  10,  11,  12,  13,  14,  15,  16,  17]],\n",
       "\n",
       "        [[ 18,  19,  20,  21,  22,  23,  24,  25,  26]],\n",
       "\n",
       "        [[ 27,  28,  29,  30,  31,  32,  33,  34,  35]],\n",
       "\n",
       "        [[ 36,  37,  38,  39,  40,  41,  42,  43,  44]],\n",
       "\n",
       "        [[ 45,  46,  47,  48,  49,  50,  51,  52,  53]],\n",
       "\n",
       "        [[ 54,  55,  56,  57,  58,  59,  60,  61,  62]],\n",
       "\n",
       "        [[ 63,  64,  65,  66,  67,  68,  69,  70,  71]],\n",
       "\n",
       "        [[ 72,  73,  74,  75,  76,  77,  78,  79,  80]],\n",
       "\n",
       "        [[ 81,  82,  83,  84,  85,  86,  87,  88,  89]],\n",
       "\n",
       "...\n",
       "\n",
       "        [[306, 307, 308, 309, 310, 311, 312, 313, 314]],\n",
       "\n",
       "        [[315, 316, 317, 318, 319, 320, 321, 322, 323]],\n",
       "\n",
       "        [[324, 325, 326, 327, 328, 329, 330, 331, 332]],\n",
       "\n",
       "        [[333, 334, 335, 336, 337, 338, 339, 340, 341]],\n",
       "\n",
       "        [[342, 343, 344, 345, 346, 347, 348, 349, 350]],\n",
       "\n",
       "        [[351, 352, 353, 354, 355, 356, 357, 358, 359]],\n",
       "\n",
       "        [[360, 361, 362, 363, 364, 365, 366, 367, 368]],\n",
       "\n",
       "        [[369, 370, 371, 372, 373, 374, 375, 376, 377]],\n",
       "\n",
       "        [[378, 379, 380, 381, 382, 383, 384, 385, 386]],\n",
       "\n",
       "        [[387, 388, 389, 390, 391, 392, 393, 394, 395]]]])</pre></div></li><li class='xr-var-item'><div class='xr-var-name'><span>lower</span></div><div class='xr-var-dims'>(risk, step, vertex, compt)</div><div class='xr-var-dtype'>float64</div><div class='xr-var-preview xr-preview'>0.0 0.0 25.0 0.0 ... 0.45 943.5 0.0</div><input id='attrs-4ff083ad-def8-40c1-95df-a40dfb9ba4c0' class='xr-var-attrs-in' type='checkbox' disabled><label for='attrs-4ff083ad-def8-40c1-95df-a40dfb9ba4c0' title='Show/Hide attributes'><svg class='icon xr-icon-file-text2'><use xlink:href='#icon-file-text2'></use></svg></label><input id='data-651cc000-c70a-4bb2-96e2-4bd3f9867235' class='xr-var-data-in' type='checkbox'><label for='data-651cc000-c70a-4bb2-96e2-4bd3f9867235' title='Show/Hide data repr'><svg class='icon xr-icon-database'><use xlink:href='#icon-database'></use></svg></label><div class='xr-var-attrs'><dl class='xr-attrs'></dl></div><div class='xr-var-data'><pre>array([[[[0.00000000e+00, 0.00000000e+00, 2.50000000e+01,\n",
       "          0.00000000e+00, 0.00000000e+00, 0.00000000e+00,\n",
       "          0.00000000e+00, 0.00000000e+00, 1.00000000e+03]],\n",
       "\n",
       "        [[0.00000000e+00, 1.17900000e+02, 1.64500000e+01,\n",
       "          0.00000000e+00, 0.00000000e+00, 0.00000000e+00,\n",
       "          0.00000000e+00, 4.45000000e+00, 8.62000000e+02]],\n",
       "\n",
       "        [[0.00000000e+00, 1.42200000e+02, 1.14500000e+01,\n",
       "          0.00000000e+00, 0.00000000e+00, 1.60000000e+01,\n",
       "          1.90000000e+01, 8.45000000e+00, 7.79800000e+02]],\n",
       "\n",
       "        [[0.00000000e+00, 3.80800000e+02, 1.48000000e+01,\n",
       "          0.00000000e+00, 5.90000000e+00, 3.00500000e+01,\n",
       "          3.32500000e+01, 1.10000000e+01, 4.34950000e+02]],\n",
       "\n",
       "        [[0.00000000e+00, 3.85300000e+02, 1.93500000e+01,\n",
       "          0.00000000e+00, 2.34500000e+01, 6.63500000e+01,\n",
       "          8.63500000e+01, 1.83500000e+01, 2.85950000e+02]],\n",
       "\n",
       "...\n",
       "\n",
       "        [[0.00000000e+00, 4.50000000e-01, 3.96000000e+01,\n",
       "          3.00000000e+00, 5.05750000e+01, 3.51607143e+00,\n",
       "          7.22500000e+00, 8.25500000e+02, 0.00000000e+00]],\n",
       "\n",
       "        [[0.00000000e+00, 0.00000000e+00, 3.39000000e+01,\n",
       "          2.45000000e+00, 3.54750000e+01, 2.31964286e+00,\n",
       "          3.07500000e+00, 8.67800000e+02, 0.00000000e+00]],\n",
       "\n",
       "        [[0.00000000e+00, 0.00000000e+00, 2.40500000e+01,\n",
       "          2.45000000e+00, 2.74964286e+01, 1.41964286e+00,\n",
       "          3.00000000e+00, 9.01350000e+02, 0.00000000e+00]],\n",
       "\n",
       "        [[0.00000000e+00, 0.00000000e+00, 1.66000000e+01,\n",
       "          3.00000000e+00, 2.24750000e+01, 7.44642857e-01,\n",
       "          9.00000000e-01, 9.22300000e+02, 0.00000000e+00]],\n",
       "\n",
       "        [[0.00000000e+00, 0.00000000e+00, 1.27571429e+01,\n",
       "          3.00000000e+00, 1.80678571e+01, 5.87500000e-01,\n",
       "          4.50000000e-01, 9.43450000e+02, 0.00000000e+00]]]])</pre></div></li><li class='xr-var-item'><div class='xr-var-name'><span>index</span></div><div class='xr-var-dims'>(risk, step, vertex, compt)</div><div class='xr-var-dtype'>int64</div><div class='xr-var-preview xr-preview'>0 1 2 3 4 5 ... 391 392 393 394 395</div><input id='attrs-d292c9be-aaea-4272-b730-3db425db6f6b' class='xr-var-attrs-in' type='checkbox' disabled><label for='attrs-d292c9be-aaea-4272-b730-3db425db6f6b' title='Show/Hide attributes'><svg class='icon xr-icon-file-text2'><use xlink:href='#icon-file-text2'></use></svg></label><input id='data-349b20b7-5d76-4fa0-8ed4-6b51067dec30' class='xr-var-data-in' type='checkbox'><label for='data-349b20b7-5d76-4fa0-8ed4-6b51067dec30' title='Show/Hide data repr'><svg class='icon xr-icon-database'><use xlink:href='#icon-database'></use></svg></label><div class='xr-var-attrs'><dl class='xr-attrs'></dl></div><div class='xr-var-data'><pre>array([[[[  0,   1,   2,   3,   4,   5,   6,   7,   8]],\n",
       "\n",
       "        [[  9,  10,  11,  12,  13,  14,  15,  16,  17]],\n",
       "\n",
       "        [[ 18,  19,  20,  21,  22,  23,  24,  25,  26]],\n",
       "\n",
       "        [[ 27,  28,  29,  30,  31,  32,  33,  34,  35]],\n",
       "\n",
       "        [[ 36,  37,  38,  39,  40,  41,  42,  43,  44]],\n",
       "\n",
       "        [[ 45,  46,  47,  48,  49,  50,  51,  52,  53]],\n",
       "\n",
       "        [[ 54,  55,  56,  57,  58,  59,  60,  61,  62]],\n",
       "\n",
       "        [[ 63,  64,  65,  66,  67,  68,  69,  70,  71]],\n",
       "\n",
       "        [[ 72,  73,  74,  75,  76,  77,  78,  79,  80]],\n",
       "\n",
       "        [[ 81,  82,  83,  84,  85,  86,  87,  88,  89]],\n",
       "\n",
       "...\n",
       "\n",
       "        [[306, 307, 308, 309, 310, 311, 312, 313, 314]],\n",
       "\n",
       "        [[315, 316, 317, 318, 319, 320, 321, 322, 323]],\n",
       "\n",
       "        [[324, 325, 326, 327, 328, 329, 330, 331, 332]],\n",
       "\n",
       "        [[333, 334, 335, 336, 337, 338, 339, 340, 341]],\n",
       "\n",
       "        [[342, 343, 344, 345, 346, 347, 348, 349, 350]],\n",
       "\n",
       "        [[351, 352, 353, 354, 355, 356, 357, 358, 359]],\n",
       "\n",
       "        [[360, 361, 362, 363, 364, 365, 366, 367, 368]],\n",
       "\n",
       "        [[369, 370, 371, 372, 373, 374, 375, 376, 377]],\n",
       "\n",
       "        [[378, 379, 380, 381, 382, 383, 384, 385, 386]],\n",
       "\n",
       "        [[387, 388, 389, 390, 391, 392, 393, 394, 395]]]])</pre></div></li><li class='xr-var-item'><div class='xr-var-name'><span>median</span></div><div class='xr-var-dims'>(risk, step, vertex, compt)</div><div class='xr-var-dtype'>float64</div><div class='xr-var-preview xr-preview'>0.0 0.0 25.0 0.0 ... 2.0 963.0 0.0</div><input id='attrs-f88ee0e2-34c8-4fd3-9133-2e42c016d78e' class='xr-var-attrs-in' type='checkbox' disabled><label for='attrs-f88ee0e2-34c8-4fd3-9133-2e42c016d78e' title='Show/Hide attributes'><svg class='icon xr-icon-file-text2'><use xlink:href='#icon-file-text2'></use></svg></label><input id='data-d5c6a9b6-305f-490b-9c7c-2b6f82a1cc25' class='xr-var-data-in' type='checkbox'><label for='data-d5c6a9b6-305f-490b-9c7c-2b6f82a1cc25' title='Show/Hide data repr'><svg class='icon xr-icon-database'><use xlink:href='#icon-database'></use></svg></label><div class='xr-var-attrs'><dl class='xr-attrs'></dl></div><div class='xr-var-data'><pre>array([[[[0.00000000e+00, 0.00000000e+00, 2.50000000e+01,\n",
       "          0.00000000e+00, 0.00000000e+00, 0.00000000e+00,\n",
       "          0.00000000e+00, 0.00000000e+00, 1.00000000e+03]],\n",
       "\n",
       "        [[0.00000000e+00, 1.27500000e+02, 1.90000000e+01,\n",
       "          0.00000000e+00, 0.00000000e+00, 0.00000000e+00,\n",
       "          0.00000000e+00, 6.00000000e+00, 8.72500000e+02]],\n",
       "\n",
       "        [[0.00000000e+00, 1.56500000e+02, 1.40000000e+01,\n",
       "          0.00000000e+00, 0.00000000e+00, 2.10000000e+01,\n",
       "          2.25000000e+01, 1.10000000e+01, 7.94500000e+02]],\n",
       "\n",
       "        [[0.00000000e+00, 4.28000000e+02, 1.85000000e+01,\n",
       "          0.00000000e+00, 1.30000000e+01, 4.05000000e+01,\n",
       "          4.35000000e+01, 1.40000000e+01, 4.71500000e+02]],\n",
       "\n",
       "        [[0.00000000e+00, 4.40000000e+02, 2.85000000e+01,\n",
       "          0.00000000e+00, 2.90000000e+01, 8.45000000e+01,\n",
       "          1.04000000e+02, 2.20000000e+01, 3.14500000e+02]],\n",
       "\n",
       "...\n",
       "\n",
       "        [[0.00000000e+00, 4.00000000e+00, 6.32500000e+01,\n",
       "          6.00000000e+00, 7.35000000e+01, 6.50000000e+00,\n",
       "          1.02500000e+01, 8.58000000e+02, 0.00000000e+00]],\n",
       "\n",
       "        [[0.00000000e+00, 2.00000000e+00, 4.60000000e+01,\n",
       "          6.00000000e+00, 6.30000000e+01, 5.00000000e+00,\n",
       "          7.00000000e+00, 8.98000000e+02, 0.00000000e+00]],\n",
       "\n",
       "        [[0.00000000e+00, 1.00000000e+00, 3.42500000e+01,\n",
       "          6.00000000e+00, 4.60000000e+01, 3.75000000e+00,\n",
       "          4.50000000e+00, 9.29000000e+02, 0.00000000e+00]],\n",
       "\n",
       "        [[5.00000000e-01, 5.00000000e-01, 2.87500000e+01,\n",
       "          6.00000000e+00, 3.95000000e+01, 2.00000000e+00,\n",
       "          3.37500000e+00, 9.47000000e+02, 0.00000000e+00]],\n",
       "\n",
       "        [[1.00000000e+00, 5.00000000e-01, 1.92500000e+01,\n",
       "          5.00000000e+00, 3.00000000e+01, 2.00000000e+00,\n",
       "          2.00000000e+00, 9.63000000e+02, 0.00000000e+00]]]])</pre></div></li></ul></div></li><li class='xr-section-item'><input id='section-026977ab-91bf-4962-8be5-41607e7a521c' class='xr-section-summary-in' type='checkbox' disabled ><label for='section-026977ab-91bf-4962-8be5-41607e7a521c' class='xr-section-summary'  title='Expand/collapse section'>Attributes: <span>(0)</span></label><div class='xr-section-inline-details'></div><div class='xr-section-details'><dl class='xr-attrs'></dl></div></li></ul></div></div>"
      ],
      "text/plain": [
       "<xarray.Dataset>\n",
       "Dimensions:  (risk: 2, step: 22, vertex: 1, compt: 9)\n",
       "Coordinates:\n",
       "  * risk     (risk) object 'high' 'low'\n",
       "  * step     (step) datetime64[ns] 2020-03-11 2020-03-12 ... 2020-04-01\n",
       "  * vertex   (vertex) object 'Austin'\n",
       "  * compt    (compt) object 'D' 'E' 'Ia' 'Ih' 'Iy' 'Pa' 'Py' 'R' 'S'\n",
       "Data variables:\n",
       "    index_x  (risk, step, vertex, compt) int64 0 1 2 3 4 ... 391 392 393 394 395\n",
       "    upper    (risk, step, vertex, compt) float64 0.0 0.0 ... 979.0 1.421e-15\n",
       "    index_y  (risk, step, vertex, compt) int64 0 1 2 3 4 ... 391 392 393 394 395\n",
       "    lower    (risk, step, vertex, compt) float64 0.0 0.0 25.0 ... 0.45 943.5 0.0\n",
       "    index    (risk, step, vertex, compt) int64 0 1 2 3 4 ... 391 392 393 394 395\n",
       "    median   (risk, step, vertex, compt) float64 0.0 0.0 25.0 ... 2.0 963.0 0.0"
      ]
     },
     "execution_count": 16,
     "metadata": {},
     "output_type": "execute_result"
    }
   ],
   "source": [
    "summary_all_ages"
   ]
  },
  {
   "cell_type": "markdown",
   "metadata": {},
   "source": [
    "The `summary_all_ages` object can be passed to the `interval_timeseries()` plot to generate the plotly image."
   ]
  },
  {
   "cell_type": "code",
   "execution_count": 17,
   "metadata": {},
   "outputs": [
    {
     "data": {
      "application/vnd.jupyter.widget-view+json": {
       "model_id": "53e58cbcf9bb4b3e9abf411a2f4e34f5",
       "version_major": 2,
       "version_minor": 0
      },
      "text/plain": [
       "VBox(children=(HBox(children=(Dropdown(description='risk', options=('high', 'low'), value='high'), Dropdown(de…"
      ]
     },
     "metadata": {},
     "output_type": "display_data"
    }
   ],
   "source": [
    "interval_timeseries(summary_all_ages)"
   ]
  },
  {
   "cell_type": "markdown",
   "metadata": {},
   "source": [
    "Spaghetti plots do not require additonal calculations, so they can also be generated directly from the simulation `xarray` without building an `EpiSummary` object first:"
   ]
  },
  {
   "cell_type": "code",
   "execution_count": 18,
   "metadata": {},
   "outputs": [
    {
     "data": {
      "application/vnd.jupyter.widget-view+json": {
       "model_id": "a9a40ce23e0641a69f721107e7672a12",
       "version_major": 2,
       "version_minor": 0
      },
      "text/plain": [
       "VBox(children=(HBox(children=(Dropdown(description='age', options=('0-4', '5-17', '18-49', '50-64', '65+'), va…"
      ]
     },
     "metadata": {},
     "output_type": "display_data"
    }
   ],
   "source": [
    "spaghetti_timeseries(\n",
    "    simulation_xr=sims,\n",
    "    x_val='step',\n",
    "    y_val='compt_model__state',\n",
    "    index_coord='index'\n",
    ")"
   ]
  },
  {
   "cell_type": "markdown",
   "metadata": {},
   "source": [
    "## Low level API"
   ]
  },
  {
   "cell_type": "markdown",
   "metadata": {},
   "source": [
    "At the lowest level, `epivislab.stats` implements aggregation methods for dask DataFrames. These methods are wrappers on the `dask.DataFrame.groupby()` and `dask.DataFrame.Aggregate()` methods.\n",
    "\n",
    "Class `Quantile` calculates a user-specified quantile:"
   ]
  },
  {
   "cell_type": "code",
   "execution_count": 19,
   "metadata": {},
   "outputs": [],
   "source": [
    "from epivislab.stats import Sum, Quantile"
   ]
  },
  {
   "cell_type": "code",
   "execution_count": 20,
   "metadata": {},
   "outputs": [],
   "source": [
    "sims_dd = sims.to_dask_dataframe()"
   ]
  },
  {
   "cell_type": "code",
   "execution_count": 21,
   "metadata": {},
   "outputs": [
    {
     "name": "stdout",
     "output_type": "stream",
     "text": [
      "Dropping columns Index(['index', 'rate_E2Pa__tau', 'rate_E2Py__tau', 'rate_Iy2Ih__eta',\n",
      "       'rate_S2E__beta', 'setup_gamma_Ia__tri_Iy2R_para',\n",
      "       'setup_gamma_Ih__tri_Ih2R', 'setup_mu__tri_Ih2D',\n",
      "       'setup_rho_Ia__tri_Pa2Ia', 'setup_rho_Iy__tri_Py2Iy',\n",
      "       'setup_seed__seed_entropy', 'setup_sigma__tri_exposed_para',\n",
      "       'setup_sto__sto_toggle', 'value'],\n",
      "      dtype='object') and aggregating by ['age', 'risk', 'step', 'compt', 'vertex'].\n"
     ]
    },
    {
     "name": "stderr",
     "output_type": "stream",
     "text": [
      "/Users/kpierce/epivislab/evl-venv/lib/python3.9/site-packages/pandas/core/dtypes/cast.py:1231: VisibleDeprecationWarning:\n",
      "\n",
      "Creating an ndarray from ragged nested sequences (which is a list-or-tuple of lists-or-tuples-or ndarrays with different lengths or shapes) is deprecated. If you meant to do this, you must specify 'dtype=object' when creating the ndarray.\n",
      "\n",
      "/Users/kpierce/epivislab/evl-venv/lib/python3.9/site-packages/pandas/core/dtypes/cast.py:1625: VisibleDeprecationWarning:\n",
      "\n",
      "Creating an ndarray from ragged nested sequences (which is a list-or-tuple of lists-or-tuples-or ndarrays with different lengths or shapes) is deprecated. If you meant to do this, you must specify 'dtype=object' when creating the ndarray.\n",
      "\n",
      "/Users/kpierce/epivislab/evl-venv/lib/python3.9/site-packages/pandas/core/common.py:228: VisibleDeprecationWarning:\n",
      "\n",
      "Creating an ndarray from ragged nested sequences (which is a list-or-tuple of lists-or-tuples-or ndarrays with different lengths or shapes) is deprecated. If you meant to do this, you must specify 'dtype=object' when creating the ndarray.\n",
      "\n"
     ]
    }
   ],
   "source": [
    "sims_quantile = Quantile(quantile=0.8)\n",
    "sims_q80 = sims_quantile.dd_quantile(\n",
    "    ddf=sims_dd, \n",
    "    groupers=['age', 'risk', 'step', 'compt', 'vertex'], \n",
    "    aggcol='compt_model__state'\n",
    ")"
   ]
  },
  {
   "cell_type": "code",
   "execution_count": 22,
   "metadata": {},
   "outputs": [
    {
     "data": {
      "text/html": [
       "<div>\n",
       "<style scoped>\n",
       "    .dataframe tbody tr th:only-of-type {\n",
       "        vertical-align: middle;\n",
       "    }\n",
       "\n",
       "    .dataframe tbody tr th {\n",
       "        vertical-align: top;\n",
       "    }\n",
       "\n",
       "    .dataframe thead th {\n",
       "        text-align: right;\n",
       "    }\n",
       "</style>\n",
       "<table border=\"1\" class=\"dataframe\">\n",
       "  <thead>\n",
       "    <tr style=\"text-align: right;\">\n",
       "      <th></th>\n",
       "      <th>value</th>\n",
       "      <th>age</th>\n",
       "      <th>risk</th>\n",
       "      <th>step</th>\n",
       "      <th>compt</th>\n",
       "      <th>vertex</th>\n",
       "    </tr>\n",
       "  </thead>\n",
       "  <tbody>\n",
       "    <tr>\n",
       "      <th>0</th>\n",
       "      <td>0.000000</td>\n",
       "      <td>0-4</td>\n",
       "      <td>high</td>\n",
       "      <td>2020-03-11</td>\n",
       "      <td>D</td>\n",
       "      <td>Austin</td>\n",
       "    </tr>\n",
       "    <tr>\n",
       "      <th>1</th>\n",
       "      <td>0.000000</td>\n",
       "      <td>0-4</td>\n",
       "      <td>high</td>\n",
       "      <td>2020-03-11</td>\n",
       "      <td>E</td>\n",
       "      <td>Austin</td>\n",
       "    </tr>\n",
       "    <tr>\n",
       "      <th>2</th>\n",
       "      <td>5.000000</td>\n",
       "      <td>0-4</td>\n",
       "      <td>high</td>\n",
       "      <td>2020-03-11</td>\n",
       "      <td>Ia</td>\n",
       "      <td>Austin</td>\n",
       "    </tr>\n",
       "    <tr>\n",
       "      <th>3</th>\n",
       "      <td>0.000000</td>\n",
       "      <td>0-4</td>\n",
       "      <td>high</td>\n",
       "      <td>2020-03-11</td>\n",
       "      <td>Ih</td>\n",
       "      <td>Austin</td>\n",
       "    </tr>\n",
       "    <tr>\n",
       "      <th>4</th>\n",
       "      <td>0.000000</td>\n",
       "      <td>0-4</td>\n",
       "      <td>high</td>\n",
       "      <td>2020-03-11</td>\n",
       "      <td>Iy</td>\n",
       "      <td>Austin</td>\n",
       "    </tr>\n",
       "    <tr>\n",
       "      <th>...</th>\n",
       "      <td>...</td>\n",
       "      <td>...</td>\n",
       "      <td>...</td>\n",
       "      <td>...</td>\n",
       "      <td>...</td>\n",
       "      <td>...</td>\n",
       "    </tr>\n",
       "    <tr>\n",
       "      <th>1975</th>\n",
       "      <td>14.400000</td>\n",
       "      <td>65+</td>\n",
       "      <td>low</td>\n",
       "      <td>2020-04-01</td>\n",
       "      <td>Iy</td>\n",
       "      <td>Austin</td>\n",
       "    </tr>\n",
       "    <tr>\n",
       "      <th>1976</th>\n",
       "      <td>1.066667</td>\n",
       "      <td>65+</td>\n",
       "      <td>low</td>\n",
       "      <td>2020-04-01</td>\n",
       "      <td>Pa</td>\n",
       "      <td>Austin</td>\n",
       "    </tr>\n",
       "    <tr>\n",
       "      <th>1977</th>\n",
       "      <td>1.000000</td>\n",
       "      <td>65+</td>\n",
       "      <td>low</td>\n",
       "      <td>2020-04-01</td>\n",
       "      <td>Py</td>\n",
       "      <td>Austin</td>\n",
       "    </tr>\n",
       "    <tr>\n",
       "      <th>1978</th>\n",
       "      <td>187.600000</td>\n",
       "      <td>65+</td>\n",
       "      <td>low</td>\n",
       "      <td>2020-04-01</td>\n",
       "      <td>R</td>\n",
       "      <td>Austin</td>\n",
       "    </tr>\n",
       "    <tr>\n",
       "      <th>1979</th>\n",
       "      <td>0.000000</td>\n",
       "      <td>65+</td>\n",
       "      <td>low</td>\n",
       "      <td>2020-04-01</td>\n",
       "      <td>S</td>\n",
       "      <td>Austin</td>\n",
       "    </tr>\n",
       "  </tbody>\n",
       "</table>\n",
       "<p>1980 rows × 6 columns</p>\n",
       "</div>"
      ],
      "text/plain": [
       "           value  age  risk       step compt  vertex\n",
       "0       0.000000  0-4  high 2020-03-11     D  Austin\n",
       "1       0.000000  0-4  high 2020-03-11     E  Austin\n",
       "2       5.000000  0-4  high 2020-03-11    Ia  Austin\n",
       "3       0.000000  0-4  high 2020-03-11    Ih  Austin\n",
       "4       0.000000  0-4  high 2020-03-11    Iy  Austin\n",
       "...          ...  ...   ...        ...   ...     ...\n",
       "1975   14.400000  65+   low 2020-04-01    Iy  Austin\n",
       "1976    1.066667  65+   low 2020-04-01    Pa  Austin\n",
       "1977    1.000000  65+   low 2020-04-01    Py  Austin\n",
       "1978  187.600000  65+   low 2020-04-01     R  Austin\n",
       "1979    0.000000  65+   low 2020-04-01     S  Austin\n",
       "\n",
       "[1980 rows x 6 columns]"
      ]
     },
     "execution_count": 22,
     "metadata": {},
     "output_type": "execute_result"
    }
   ],
   "source": [
    "sims_q80.compute()"
   ]
  },
  {
   "cell_type": "markdown",
   "metadata": {},
   "source": [
    "Class `Sum` calculates summations:"
   ]
  },
  {
   "cell_type": "code",
   "execution_count": 23,
   "metadata": {},
   "outputs": [
    {
     "name": "stdout",
     "output_type": "stream",
     "text": [
      "Dropping columns Index(['index', 'rate_E2Pa__tau', 'rate_E2Py__tau', 'rate_Iy2Ih__eta',\n",
      "       'rate_S2E__beta', 'risk', 'setup_gamma_Ia__tri_Iy2R_para',\n",
      "       'setup_gamma_Ih__tri_Ih2R', 'setup_mu__tri_Ih2D',\n",
      "       'setup_rho_Ia__tri_Pa2Ia', 'setup_rho_Iy__tri_Py2Iy',\n",
      "       'setup_seed__seed_entropy', 'setup_sigma__tri_exposed_para',\n",
      "       'setup_sto__sto_toggle', 'value'],\n",
      "      dtype='object') and aggregating by ['age', 'step', 'compt', 'vertex'].\n"
     ]
    },
    {
     "name": "stderr",
     "output_type": "stream",
     "text": [
      "/Users/kpierce/epivislab/evl-venv/lib/python3.9/site-packages/pandas/core/dtypes/cast.py:1231: VisibleDeprecationWarning:\n",
      "\n",
      "Creating an ndarray from ragged nested sequences (which is a list-or-tuple of lists-or-tuples-or ndarrays with different lengths or shapes) is deprecated. If you meant to do this, you must specify 'dtype=object' when creating the ndarray.\n",
      "\n",
      "/Users/kpierce/epivislab/evl-venv/lib/python3.9/site-packages/pandas/core/dtypes/cast.py:1625: VisibleDeprecationWarning:\n",
      "\n",
      "Creating an ndarray from ragged nested sequences (which is a list-or-tuple of lists-or-tuples-or ndarrays with different lengths or shapes) is deprecated. If you meant to do this, you must specify 'dtype=object' when creating the ndarray.\n",
      "\n",
      "/Users/kpierce/epivislab/evl-venv/lib/python3.9/site-packages/pandas/core/common.py:228: VisibleDeprecationWarning:\n",
      "\n",
      "Creating an ndarray from ragged nested sequences (which is a list-or-tuple of lists-or-tuples-or ndarrays with different lengths or shapes) is deprecated. If you meant to do this, you must specify 'dtype=object' when creating the ndarray.\n",
      "\n"
     ]
    }
   ],
   "source": [
    "sims_sum = Sum()\n",
    "sims_sum_over_risk = sims_quantile.dd_quantile(\n",
    "    ddf=sims_dd, \n",
    "    groupers=['age', 'step', 'compt', 'vertex'], \n",
    "    aggcol='compt_model__state'\n",
    ")"
   ]
  },
  {
   "cell_type": "code",
   "execution_count": 24,
   "metadata": {},
   "outputs": [
    {
     "data": {
      "text/html": [
       "<div>\n",
       "<style scoped>\n",
       "    .dataframe tbody tr th:only-of-type {\n",
       "        vertical-align: middle;\n",
       "    }\n",
       "\n",
       "    .dataframe tbody tr th {\n",
       "        vertical-align: top;\n",
       "    }\n",
       "\n",
       "    .dataframe thead th {\n",
       "        text-align: right;\n",
       "    }\n",
       "</style>\n",
       "<table border=\"1\" class=\"dataframe\">\n",
       "  <thead>\n",
       "    <tr style=\"text-align: right;\">\n",
       "      <th></th>\n",
       "      <th>value</th>\n",
       "      <th>age</th>\n",
       "      <th>step</th>\n",
       "      <th>compt</th>\n",
       "      <th>vertex</th>\n",
       "    </tr>\n",
       "  </thead>\n",
       "  <tbody>\n",
       "    <tr>\n",
       "      <th>0</th>\n",
       "      <td>0.000000</td>\n",
       "      <td>0-4</td>\n",
       "      <td>2020-03-11</td>\n",
       "      <td>D</td>\n",
       "      <td>Austin</td>\n",
       "    </tr>\n",
       "    <tr>\n",
       "      <th>1</th>\n",
       "      <td>0.000000</td>\n",
       "      <td>0-4</td>\n",
       "      <td>2020-03-11</td>\n",
       "      <td>E</td>\n",
       "      <td>Austin</td>\n",
       "    </tr>\n",
       "    <tr>\n",
       "      <th>2</th>\n",
       "      <td>5.000000</td>\n",
       "      <td>0-4</td>\n",
       "      <td>2020-03-11</td>\n",
       "      <td>Ia</td>\n",
       "      <td>Austin</td>\n",
       "    </tr>\n",
       "    <tr>\n",
       "      <th>3</th>\n",
       "      <td>0.000000</td>\n",
       "      <td>0-4</td>\n",
       "      <td>2020-03-11</td>\n",
       "      <td>Ih</td>\n",
       "      <td>Austin</td>\n",
       "    </tr>\n",
       "    <tr>\n",
       "      <th>4</th>\n",
       "      <td>0.000000</td>\n",
       "      <td>0-4</td>\n",
       "      <td>2020-03-11</td>\n",
       "      <td>Iy</td>\n",
       "      <td>Austin</td>\n",
       "    </tr>\n",
       "    <tr>\n",
       "      <th>...</th>\n",
       "      <td>...</td>\n",
       "      <td>...</td>\n",
       "      <td>...</td>\n",
       "      <td>...</td>\n",
       "      <td>...</td>\n",
       "    </tr>\n",
       "    <tr>\n",
       "      <th>985</th>\n",
       "      <td>16.000000</td>\n",
       "      <td>65+</td>\n",
       "      <td>2020-04-01</td>\n",
       "      <td>Iy</td>\n",
       "      <td>Austin</td>\n",
       "    </tr>\n",
       "    <tr>\n",
       "      <th>986</th>\n",
       "      <td>1.066667</td>\n",
       "      <td>65+</td>\n",
       "      <td>2020-04-01</td>\n",
       "      <td>Pa</td>\n",
       "      <td>Austin</td>\n",
       "    </tr>\n",
       "    <tr>\n",
       "      <th>987</th>\n",
       "      <td>1.000000</td>\n",
       "      <td>65+</td>\n",
       "      <td>2020-04-01</td>\n",
       "      <td>Py</td>\n",
       "      <td>Austin</td>\n",
       "    </tr>\n",
       "    <tr>\n",
       "      <th>988</th>\n",
       "      <td>186.200000</td>\n",
       "      <td>65+</td>\n",
       "      <td>2020-04-01</td>\n",
       "      <td>R</td>\n",
       "      <td>Austin</td>\n",
       "    </tr>\n",
       "    <tr>\n",
       "      <th>989</th>\n",
       "      <td>0.000000</td>\n",
       "      <td>65+</td>\n",
       "      <td>2020-04-01</td>\n",
       "      <td>S</td>\n",
       "      <td>Austin</td>\n",
       "    </tr>\n",
       "  </tbody>\n",
       "</table>\n",
       "<p>990 rows × 5 columns</p>\n",
       "</div>"
      ],
      "text/plain": [
       "          value  age       step compt  vertex\n",
       "0      0.000000  0-4 2020-03-11     D  Austin\n",
       "1      0.000000  0-4 2020-03-11     E  Austin\n",
       "2      5.000000  0-4 2020-03-11    Ia  Austin\n",
       "3      0.000000  0-4 2020-03-11    Ih  Austin\n",
       "4      0.000000  0-4 2020-03-11    Iy  Austin\n",
       "..          ...  ...        ...   ...     ...\n",
       "985   16.000000  65+ 2020-04-01    Iy  Austin\n",
       "986    1.066667  65+ 2020-04-01    Pa  Austin\n",
       "987    1.000000  65+ 2020-04-01    Py  Austin\n",
       "988  186.200000  65+ 2020-04-01     R  Austin\n",
       "989    0.000000  65+ 2020-04-01     S  Austin\n",
       "\n",
       "[990 rows x 5 columns]"
      ]
     },
     "execution_count": 24,
     "metadata": {},
     "output_type": "execute_result"
    }
   ],
   "source": [
    "sims_sum_over_risk.compute()"
   ]
  },
  {
   "cell_type": "code",
   "execution_count": null,
   "metadata": {},
   "outputs": [],
   "source": []
  }
 ],
 "metadata": {
  "kernelspec": {
   "display_name": "evl-venv",
   "language": "python",
   "name": "evl-venv"
  },
  "language_info": {
   "codemirror_mode": {
    "name": "ipython",
    "version": 3
   },
   "file_extension": ".py",
   "mimetype": "text/x-python",
   "name": "python",
   "nbconvert_exporter": "python",
   "pygments_lexer": "ipython3",
   "version": "3.9.7"
  }
 },
 "nbformat": 4,
 "nbformat_minor": 4
}
